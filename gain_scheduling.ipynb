{
 "cells": [
  {
   "cell_type": "code",
   "execution_count": 1,
   "id": "a3066034",
   "metadata": {},
   "outputs": [],
   "source": [
    "import numpy as np\n",
    "import matplotlib.pyplot as plt"
   ]
  },
  {
   "cell_type": "code",
   "execution_count": 2,
   "id": "a7d9e637",
   "metadata": {},
   "outputs": [],
   "source": [
    "class PIDController:\n",
    "    def __init__(self, Kp, Ki, Kd):\n",
    "        self.Kp = Kp\n",
    "        self.Ki = Ki\n",
    "        self.Kd = Kd\n",
    "        self.prev_error = 0\n",
    "        self.integral = 0\n",
    "        \n",
    "    def compute(self, setpoint, pv, dt):\n",
    "        error = setpoint - pv\n",
    "        \n",
    "        # Proportional term\n",
    "        P = self.Kp * error\n",
    "        \n",
    "        # Integral term\n",
    "        self.integral += error * dt\n",
    "        I = self.Ki * self.integral\n",
    "        \n",
    "        # Derivative term\n",
    "        derivative = (error - self.prev_error) / dt\n",
    "        D = self.Kd * derivative\n",
    "        \n",
    "        # Save error for next derivative calculation\n",
    "        self.prev_error = error\n",
    "        \n",
    "        # Compute output\n",
    "        output = P + I + D\n",
    "        \n",
    "        return output"
   ]
  },
  {
   "cell_type": "code",
   "execution_count": 3,
   "id": "73a6b66b",
   "metadata": {},
   "outputs": [],
   "source": [
    "class GainScheduledPID:\n",
    "    def __init__(self, pid_params):\n",
    "        \"\"\"pid_params is a list of (condition_function, Kp, Ki, Kd) tuples\"\"\"\n",
    "        self.pid_params = pid_params\n",
    "        self.current_pid = PIDController(0, 0, 0)\n",
    "        self.prev_error = 0\n",
    "        self.integral = 0\n",
    "        \n",
    "    def compute(self, setpoint, pv, dt):\n",
    "        # Find appropriate parameters\n",
    "        for condition, Kp, Ki, Kd in self.pid_params:\n",
    "            if condition(setpoint, pv):\n",
    "                self.current_pid.Kp = Kp\n",
    "                self.current_pid.Ki = Ki\n",
    "                self.current_pid.Kd = Kd\n",
    "                break\n",
    "                \n",
    "        return self.current_pid.compute(setpoint, pv, dt)\n",
    "\n",
    "# Example usage:\n",
    "def low_temp_condition(setpoint, pv):\n",
    "    return pv < 50\n",
    "\n",
    "def high_temp_condition(setpoint, pv):\n",
    "    return pv >= 50\n",
    "\n",
    "pid_params = [\n",
    "    (low_temp_condition, 30, 0.5, 5),  # more aggressive at low temps\n",
    "    (high_temp_condition, 20, 0.2, 2)  # more conservative at high temps\n",
    "]\n",
    "\n",
    "scheduled_pid = GainScheduledPID(pid_params)"
   ]
  }
 ],
 "metadata": {
  "kernelspec": {
   "display_name": "Python 3",
   "language": "python",
   "name": "python3"
  },
  "language_info": {
   "codemirror_mode": {
    "name": "ipython",
    "version": 3
   },
   "file_extension": ".py",
   "mimetype": "text/x-python",
   "name": "python",
   "nbconvert_exporter": "python",
   "pygments_lexer": "ipython3",
   "version": "3.10.12"
  }
 },
 "nbformat": 4,
 "nbformat_minor": 5
}
